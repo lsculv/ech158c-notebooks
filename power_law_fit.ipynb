{
 "cells": [
  {
   "cell_type": "code",
   "execution_count": 1,
   "id": "9a0fedc9-39e5-43b0-98b0-4bd833607e37",
   "metadata": {},
   "outputs": [],
   "source": [
    "import numpy as np\n",
    "import matplotlib.pyplot as plt\n",
    "import scipy.optimize as so"
   ]
  },
  {
   "cell_type": "code",
   "execution_count": 14,
   "id": "9dd103ca-483b-4211-9d5c-a9a93d29c15a",
   "metadata": {},
   "outputs": [],
   "source": [
    "# Different LHHW model equations\n",
    "def arrhenius(temp, A, E):\n",
    "    R = 8.314\n",
    "    return A * np.exp((-E) / (R * temp))\n",
    "\n",
    "\n",
    "def Rexp(temp, E):\n",
    "    R = 8.314\n",
    "    return np.exp(E / (R * temp))\n",
    "\n",
    "\n",
    "def forward_lhhw_prompt(temp, c_meoh, c_h20, c_dme):\n",
    "    R = 8.314\n",
    "    kinetic = 71.82 * np.exp(7867 / (R * temp)) * c_meoh * c_meoh\n",
    "    adsorb = (\n",
    "        1\n",
    "        + (3.9471e-4 * np.exp(37835 / (R * temp)) * np.sqrt(c_meoh))\n",
    "        + (5.6057e-6 * np.exp(47468 / (R * temp)) * c_h20)\n",
    "    )\n",
    "    return kinetic / (adsorb**4)\n",
    "\n",
    "\n",
    "def reverse_lhhw_prompt(temp, c_meoh, c_h20, c_dme):\n",
    "    R = 8.314\n",
    "    kinetic = 651.1 * np.exp((-14652) / (R * temp)) * c_dme * c_h20\n",
    "    adsorb = (\n",
    "        1\n",
    "        + (3.9471e-4 * np.exp(37835 / (R * temp)) * np.sqrt(c_meoh))\n",
    "        + (5.6057e-6 * np.exp(47468 / (R * temp)) * c_h20)\n",
    "    )\n",
    "    return kinetic / (adsorb**4)\n",
    "\n",
    "\n",
    "def lhhw_farsi(temp, c_meoh, c_h20, c_dme):\n",
    "    \"\"\"\n",
    "    [E_i] = J / mol\n",
    "    [A_k] = mol^2 / kg / s / m^3\n",
    "    [A_meoh] = m^3 / mol\n",
    "    [A_h20] = m^3 / mol\n",
    "    \"\"\"\n",
    "    A_k = 3.7e10\n",
    "    E_k = -105000.0\n",
    "    k = arrhenius(temp, A_k, E_k)\n",
    "\n",
    "    A_meoh = 7.9e-4\n",
    "    E_meoh = 70500\n",
    "    K_meoh = arrhenius(temp, A_meoh, E_meoh)\n",
    "\n",
    "    A_h20 = 0.84e-1\n",
    "    E_h20 = 41100\n",
    "    K_h20 = arrhenius(temp, A_h20, E_h20)\n",
    "\n",
    "    K_eq = np.exp(\n",
    "        (0.86 * np.log(temp))\n",
    "        + (3138 / temp)\n",
    "        + (1.33e-3 * temp)\n",
    "        - (1.23e-5 * temp * temp)\n",
    "        + (3.5e-10 * temp)\n",
    "    )\n",
    "\n",
    "    kinetic = k * (K_meoh * K_meoh)\n",
    "    driving = c_meoh - ((c_dme * c_h20) / K_eq)\n",
    "    adsorb = 1 + (2 * np.sqrt(K_meoh * c_meoh)) + ((K_h20 * c_h20) ** 4)\n",
    "\n",
    "    return (kinetic * driving) / (adsorb**4)\n",
    "\n",
    "\n",
    "def lhhw_turton(temp, c_meoh, c_h20, c_dme):\n",
    "    \"\"\"\n",
    "    energy terms in exponents are kJ/mol\n",
    "    C_i is in kmol/m^3\n",
    "    returned rate is in kmol/m^3/h, where the volume m^3 is the reactor volume\n",
    "    \"\"\"\n",
    "    K_eq = 0.1103 * np.exp(2708.6 / temp)\n",
    "    kinetic = 1.37e10 * Rexp(temp, -2544.0)\n",
    "    driving = (c_meoh * c_meoh) - ((c_dme * c_h20) / K_eq)\n",
    "    adsorb = (\n",
    "        1\n",
    "        + (46.4e-3 * Rexp(temp, 35280.5) * np.sqrt(c_meoh))\n",
    "        + (84.7e-3 * Rexp(temp, 42152.0) * c_h20)\n",
    "    )\n",
    "    return (kinetic * driving) / (adsorb**4)"
   ]
  },
  {
   "cell_type": "code",
   "execution_count": 29,
   "id": "87aaf25c-f185-46f4-8c14-66054bdaea65",
   "metadata": {},
   "outputs": [
    {
     "name": "stdout",
     "output_type": "stream",
     "text": [
      "(390625,)\n"
     ]
    }
   ],
   "source": [
    "# The memory use and runtime scales pretty hard - about O(n^4) - with more points.\n",
    "# Add more at your own risk of being hit by the OOM reaper\n",
    "#\n",
    "# About 20 points (runtime ~6s) seems to be good enough for a decent fit,\n",
    "# anything 50 or above is too much (runtime >4 mins).\n",
    "points = 25\n",
    "temp = np.linspace(325 + 273, 375 + 273, points, dtype=np.float128)\n",
    "# Never start any of the concentration ranges at exactly 0.0,\n",
    "# the exponents in the power law will mangle the fit\n",
    "c_meoh = np.linspace(0.0001, 0.02, points, dtype=np.float128)\n",
    "c_h20 = np.linspace(0.0001, 0.02, points, dtype=np.float128)\n",
    "c_dme = np.linspace(0.000001, 0.0001, points, dtype=np.float128)\n",
    "\n",
    "tempG, c_meohG, c_h20G, c_dmeG = np.meshgrid(temp, c_meoh, c_h20, c_dme, copy=False)\n",
    "tempG = tempG.flatten()\n",
    "c_meohG = c_meohG.flatten()\n",
    "c_h20G = c_h20G.flatten()\n",
    "c_dmeG = c_dmeG.flatten()\n",
    "\n",
    "vars = (tempG, c_meohG, c_h20G, c_dmeG)\n",
    "print(tempG.shape)\n",
    "\n",
    "\n",
    "def power_law(vars, A, E, alpha, beta, gamma):\n",
    "    \"\"\"\n",
    "    data[0] = temp\n",
    "    data[1] = c_meoh\n",
    "    data[2] = c_h20\n",
    "    data[3] = c_dme\n",
    "    \"\"\"\n",
    "    temp, c_meoh, c_h20, c_dme = vars\n",
    "    k = arrhenius(temp, A, E)\n",
    "    return k * (c_meoh**alpha) * (c_h20**beta) * (c_dme**gamma)\n",
    "\n",
    "\n",
    "rates = lhhw_turton(tempG, c_meohG, c_h20G, c_dmeG)"
   ]
  },
  {
   "cell_type": "code",
   "execution_count": 30,
   "id": "e079dec3-bdbb-46f8-9209-603252e7d46e",
   "metadata": {},
   "outputs": [
    {
     "name": "stderr",
     "output_type": "stream",
     "text": [
      "/tmp/ipykernel_25987/3844463266.py:33: RuntimeWarning: overflow encountered in power\n",
      "  return k * (c_meoh**alpha) * (c_h20**beta) * (c_dme**gamma)\n",
      "/tmp/ipykernel_25987/3844463266.py:33: RuntimeWarning: overflow encountered in multiply\n",
      "  return k * (c_meoh**alpha) * (c_h20**beta) * (c_dme**gamma)\n"
     ]
    },
    {
     "name": "stdout",
     "output_type": "stream",
     "text": [
      "[ 2.00634182e+00  1.48264869e-01  4.07448823e-03 -2.37118165e-03\n",
      " -1.17827251e-04]\n",
      "[4.06991920e+02 2.01804313e+09 1.48905954e-01 1.44342755e-01\n",
      " 1.77770431e-01]\n",
      "1590073452242.4683\n",
      "CPU times: user 378 ms, sys: 3.91 ms, total: 382 ms\n",
      "Wall time: 380 ms\n"
     ]
    }
   ],
   "source": [
    "%%time\n",
    "# TODO: power law per stage / group of stages?\n",
    "\n",
    "# This gets its own cell because the calculation can take multiple minutes for\n",
    "# large values of `points`\n",
    "popt, pcov = so.curve_fit(power_law, vars, rates)\n",
    "\n",
    "print(popt)\n",
    "print(np.diag(pcov))\n",
    "print(np.linalg.cond(pcov))"
   ]
  },
  {
   "cell_type": "code",
   "execution_count": 31,
   "id": "e2ef753e-c7f4-4d90-90b3-852b3aca2ea0",
   "metadata": {},
   "outputs": [
    {
     "name": "stdout",
     "output_type": "stream",
     "text": [
      "[0.84113068 0.83845512 0.83566661 ... 0.99456527 0.99456476 0.99456425]\n",
      "rates=array([ 12.45218806,  12.24359345,  12.03499884, ..., 367.11063327,\n",
      "       367.0742971 , 367.03796093], dtype=float128)\n",
      "rates_fit=array([1.97827067, 1.9778898 , 1.97775219, ..., 1.99514665, 1.99513631,\n",
      "       1.99512641], dtype=float128)\n",
      "r1=1252.8834915489642\n",
      "r2=2.019292388285999\n"
     ]
    },
    {
     "data": {
      "image/png": "[encoded data removed]",
      "text/plain": [
       "<Figure size 640x480 with 1 Axes>"
      ]
     },
     "metadata": {},
     "output_type": "display_data"
    }
   ],
   "source": [
    "# Checking the rough quality of the fit\n",
    "rates_fit = power_law(vars, *popt)\n",
    "print(np.abs(rates - rates_fit) / rates)\n",
    "print(f\"{rates=}\")\n",
    "print(f\"{rates_fit=}\")\n",
    "r1 = lhhw_turton(620, 0.0201, 0.0001, 0.01)\n",
    "print(f\"{r1=}\")\n",
    "r2 = power_law((620, 0.0201, 0.0001, 0.01), *popt)\n",
    "print(f\"{r2=}\")\n",
    "errors = (np.abs(rates - rates_fit) / rates).flatten() * 100  # percent error\n",
    "plt.hist(errors, density=True, log=True)\n",
    "plt.ticklabel_format(axis=\"x\", style=\"plain\")\n",
    "plt.show()"
   ]
  },
  {
   "cell_type": "code",
   "execution_count": 41,
   "id": "e733b890-cb91-4648-b5aa-40c16cb587fd",
   "metadata": {},
   "outputs": [
    {
     "data": {
      "image/png": "[encoded data removed]",
      "text/plain": [
       "<Figure size 640x480 with 1 Axes>"
      ]
     },
     "metadata": {},
     "output_type": "display_data"
    }
   ],
   "source": [
    "temp = 350 + 273\n",
    "points = 100\n",
    "temp = np.linspace(273 + 325, 350 + 273, points, dtype=np.float128)\n",
    "c_meoh = 0.125\n",
    "c_h20 = 0.0012\n",
    "c_dme = 0.01\n",
    "r = lhhw_turton(temp, c_meoh, c_h20, c_dme)\n",
    "rf = lhhw_farsi(temp, c_meoh, c_h20, c_dme)\n",
    "rp = forward_lhhw_prompt(temp, c_meoh, c_h20, c_dme) - reverse_lhhw_prompt(\n",
    "    temp, c_meoh, c_h20, c_dme\n",
    ")\n",
    "rfit = power_law((temp, c_meoh, c_h20, c_dme), *popt)\n",
    "plt.plot(temp, r, \"k\", label=\"turton\")\n",
    "plt.plot(temp, rf, \"b\", label=\"farsi\")\n",
    "plt.plot(temp, rp, \"m\", label=\"prompt\")\n",
    "plt.plot(temp, rfit, \"r--\", label=\"fit\")\n",
    "plt.legend()\n",
    "plt.show()"
   ]
  }
 ],
 "metadata": {
  "kernelspec": {
   "display_name": "Python 3 (ipykernel)",
   "language": "python",
   "name": "python3"
  },
  "language_info": {
   "codemirror_mode": {
    "name": "ipython",
    "version": 3
   },
   "file_extension": ".py",
   "mimetype": "text/x-python",
   "name": "python",
   "nbconvert_exporter": "python",
   "pygments_lexer": "ipython3",
   "version": "3.12.2"
  }
 },
 "nbformat": 4,
 "nbformat_minor": 5
}
